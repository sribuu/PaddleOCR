{
 "cells": [
  {
   "cell_type": "code",
   "execution_count": 1,
   "metadata": {},
   "outputs": [],
   "source": [
    "import yaml"
   ]
  },
  {
   "cell_type": "code",
   "execution_count": 4,
   "metadata": {},
   "outputs": [],
   "source": [
    "fn = \"/home/philgun/Documents/sribuu/ocr/models/invoice/algorithm_ser.yml\""
   ]
  },
  {
   "cell_type": "code",
   "execution_count": 5,
   "metadata": {},
   "outputs": [],
   "source": [
    "with open(fn, 'r') as f:\n",
    "    valuesYaml = yaml.load(f, Loader=yaml.FullLoader)"
   ]
  },
  {
   "cell_type": "code",
   "execution_count": 8,
   "metadata": {},
   "outputs": [
    {
     "name": "stdout",
     "output_type": "stream",
     "text": [
      "Global {'use_gpu': True, 'epoch_num': 200, 'log_smooth_window': 10, 'print_batch_step': 10, 'save_model_dir': './model_checkpoint/ser', 'save_epoch_step': 2000, 'eval_batch_step': [0, 19], 'cal_metric_during_train': False, 'save_inference_dir': './model_compiled/ser', 'use_visualdl': False, 'seed': 2022, 'infer_img': './train_data/det/test.txt', 'infer_mode': False, 'save_res_path': './output/ser', 'kie_rec_model_dir': None, 'kie_det_model_dir': None}\n",
      "\n",
      "\n",
      "Architecture {'model_type': 'kie', 'algorithm': 'LayoutXLM', 'Transform': None, 'Backbone': {'name': 'LayoutXLMForSer', 'pretrained': True, 'checkpoints': None, 'mode': 'vi', 'num_classes': 105}}\n",
      "\n",
      "\n",
      "Loss {'name': 'VQASerTokenLayoutLMLoss', 'num_classes': 105, 'key': 'backbone_out'}\n",
      "\n",
      "\n",
      "Optimizer {'name': 'AdamW', 'beta1': 0.9, 'beta2': 0.999, 'lr': {'name': 'Linear', 'learning_rate': 5e-05, 'epochs': 200, 'warmup_epoch': 2}, 'regularizer': {'name': 'L2', 'factor': 0.0}}\n",
      "\n",
      "\n",
      "PostProcess {'name': 'VQASerTokenLayoutLMPostProcess', 'class_path': 'label-key-list.txt'}\n",
      "\n",
      "\n",
      "Metric {'name': 'VQASerTokenMetric', 'main_indicator': 'hmean'}\n",
      "\n",
      "\n",
      "Train {'dataset': {'name': 'SimpleDataSet', 'data_dir': 'train_data/det/train', 'label_file_list': ['train_data/det/train.txt'], 'ratio_list': [1.0], 'transforms': [{'DecodeImage': {'img_mode': 'RGB', 'channel_first': False}}, {'VQATokenLabelEncode': {'contains_re': False, 'algorithm': 'LayoutXLM', 'class_path': 'label-key-list.txt', 'use_textline_bbox_info': True, 'order_method': 'tb-yx'}}, {'VQATokenPad': {'max_seq_len': 512, 'return_attention_mask': True}}, {'VQASerTokenChunk': {'max_seq_len': 512}}, {'Resize': {'size': [224, 224]}}, {'NormalizeImage': {'scale': 1, 'mean': [123.675, 116.28, 103.53], 'std': [58.395, 57.12, 57.375], 'order': 'hwc'}}, {'ToCHWImage': None}, {'KeepKeys': {'keep_keys': ['input_ids', 'bbox', 'attention_mask', 'token_type_ids', 'image', 'labels']}}]}, 'loader': {'shuffle': True, 'drop_last': False, 'batch_size_per_card': 8, 'num_workers': 4}}\n",
      "\n",
      "\n",
      "Eval {'dataset': {'name': 'SimpleDataSet', 'data_dir': 'train_data/det/val', 'label_file_list': ['train_data/det/val.txt'], 'transforms': [{'DecodeImage': {'img_mode': 'RGB', 'channel_first': False}}, {'VQATokenLabelEncode': {'contains_re': False, 'algorithm': 'LayoutXLM', 'class_path': 'label-key-list.txt', 'use_textline_bbox_info': True, 'order_method': 'tb-yx'}}, {'VQATokenPad': {'max_seq_len': 512, 'return_attention_mask': True}}, {'VQASerTokenChunk': {'max_seq_len': 512}}, {'Resize': {'size': [224, 224]}}, {'NormalizeImage': {'scale': 1, 'mean': [123.675, 116.28, 103.53], 'std': [58.395, 57.12, 57.375], 'order': 'hwc'}}, {'ToCHWImage': None}, {'KeepKeys': {'keep_keys': ['input_ids', 'bbox', 'attention_mask', 'token_type_ids', 'image', 'labels']}}]}, 'loader': {'shuffle': False, 'drop_last': False, 'batch_size_per_card': 8, 'num_workers': 4}}\n",
      "\n",
      "\n"
     ]
    }
   ],
   "source": [
    "for key,val in valuesYaml.items():\n",
    "    print(key,val)\n",
    "    print(\"\\n\")"
   ]
  }
 ],
 "metadata": {
  "kernelspec": {
   "display_name": "Python 3",
   "language": "python",
   "name": "python3"
  },
  "language_info": {
   "codemirror_mode": {
    "name": "ipython",
    "version": 3
   },
   "file_extension": ".py",
   "mimetype": "text/x-python",
   "name": "python",
   "nbconvert_exporter": "python",
   "pygments_lexer": "ipython3",
   "version": "3.10.6"
  },
  "orig_nbformat": 4
 },
 "nbformat": 4,
 "nbformat_minor": 2
}
